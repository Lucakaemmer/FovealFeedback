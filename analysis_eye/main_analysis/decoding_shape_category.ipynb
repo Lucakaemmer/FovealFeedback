{
 "cells": [
  {
   "cell_type": "markdown",
   "metadata": {},
   "source": [
    "# Importing and Preparing the Data"
   ]
  },
  {
   "cell_type": "code",
   "execution_count": null,
   "metadata": {},
   "outputs": [],
   "source": [
    "import pickle\n",
    "from utils.prepare_data import PrepareData\n",
    "\n",
    "data = PrepareData()\n",
    "full_dataset = data.prepare_all_data(vareas=[3], degrees=[1], event_related=False, exclude='online', print_mask=False,\n",
    "                                     anatomy=True, retinotopy=True, frontal_control=False, eccen=False, object=False)\n",
    "\n",
    "with open('data/full_dataset.pkl', 'wb') as file:\n",
    "    pickle.dump(full_dataset, file)"
   ]
  },
  {
   "cell_type": "markdown",
   "metadata": {},
   "source": [
    "# Running the Decoding Analysis"
   ]
  },
  {
   "cell_type": "code",
   "execution_count": null,
   "metadata": {},
   "outputs": [],
   "source": [
    "import pickle\n",
    "from utils.foveal_decoding import FovealDecoding\n",
    "\n",
    "with open('data/full_dataset.pkl', 'rb') as file:\n",
    "    full_dataset = pickle.load(file)\n",
    "\n",
    "condition = 'experimental'\n",
    "decoder = FovealDecoding(full_dataset)\n",
    "accuracy_matrices, cross_condition_accuracy_matrices, cross_nobis_matrices, accuracy, cross_accuracy, acc_se, cross_se = decoder.run_all_decoding(condition=condition, print_accuracy=True)\n",
    "with open('data/accuracy_matrices_exp.pkl', 'wb') as file:\n",
    "        pickle.dump(accuracy_matrices, file)\n",
    "\n",
    "condition = 'control'\n",
    "decoder = FovealDecoding(full_dataset)\n",
    "accuracy_matrices, cross_condition_accuracy_matrices, cross_nobis_matrices, accuracy, cross_accuracy, acc_se, cross_se = decoder.run_all_decoding(condition=condition, print_accuracy=True)\n",
    "with open('data/accuracy_matrices_control.pkl', 'wb') as file:\n",
    "        pickle.dump(accuracy_matrices, file)\n",
    "    \n",
    "with open('data/accuracy_matrices_cross.pkl', 'wb') as file:\n",
    "    pickle.dump(cross_condition_accuracy_matrices, file)"
   ]
  },
  {
   "cell_type": "markdown",
   "metadata": {},
   "source": [
    "# Plotting the Results"
   ]
  },
  {
   "cell_type": "code",
   "execution_count": null,
   "metadata": {},
   "outputs": [],
   "source": [
    "import pickle\n",
    "from utils.plot_results import PlotResults\n",
    "\n",
    "with open('data/accuracy_matrices_exp.pkl', 'rb') as file:\n",
    "    accuracy_matrices = pickle.load(file)\n",
    "    \n",
    "ploter = PlotResults(accuracy_matrices)\n",
    "ploter.set_colors(color=\"blue\")\n",
    "ploter.plot_bar_plot(title=\"Decoding Accuracy for V1 - Experimental\", max=0.7)\n",
    "# ploter.plotting_1v1(title=\"Decoding Accuracy for Foveal V1 - Control\", max=0.70)"
   ]
  },
  {
   "cell_type": "code",
   "execution_count": null,
   "metadata": {},
   "outputs": [],
   "source": [
    "import pickle\n",
    "from utils.plot_results import PlotResults\n",
    "\n",
    "with open('data/accuracy_matrices_control.pkl', 'rb') as file:\n",
    "    accuracy_matrices = pickle.load(file)\n",
    "    \n",
    "ploter = PlotResults(accuracy_matrices)\n",
    "ploter.set_colors(color=\"red\")\n",
    "ploter.plot_bar_plot(title=\"Decoding Accuracy for V1 - Control\", max=1)\n",
    "# ploter.plotting_1v1(title=\"Decoding Accuracy for Foveal V1 - Control\", max=1)"
   ]
  },
  {
   "cell_type": "code",
   "execution_count": null,
   "metadata": {},
   "outputs": [],
   "source": [
    "import pickle\n",
    "from utils.plot_results import PlotResults\n",
    "\n",
    "with open('data/accuracy_matrices_cross.pkl', 'rb') as file:\n",
    "    cross_condition_accuracy_matrices = pickle.load(file)\n",
    "    \n",
    "cross_ploter = PlotResults(cross_condition_accuracy_matrices)\n",
    "cross_ploter.set_colors(color=\"green\")\n",
    "cross_ploter.plot_bar_plot(title=\"Cross-Decoding Accuracy for V1\", max=0.7)\n",
    "# cross_ploter.plotting_1v1(title=\"Cross-Decoding Accuracy for Foveal V1\", max=0.70)"
   ]
  }
 ],
 "metadata": {
  "kernelspec": {
   "display_name": "Python 3",
   "language": "python",
   "name": "python3"
  },
  "language_info": {
   "codemirror_mode": {
    "name": "ipython",
    "version": 3
   },
   "file_extension": ".py",
   "mimetype": "text/x-python",
   "name": "python",
   "nbconvert_exporter": "python",
   "pygments_lexer": "ipython3",
   "version": "3.12.2"
  }
 },
 "nbformat": 4,
 "nbformat_minor": 2
}
