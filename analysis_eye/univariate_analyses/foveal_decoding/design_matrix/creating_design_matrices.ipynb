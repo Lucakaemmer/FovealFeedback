{
 "cells": [
  {
   "cell_type": "markdown",
   "metadata": {},
   "source": [
    "# Creating Design Matrix\n",
    "\n",
    "This script creates two instruction files for design matrices, one for the presentation of of objects and one fore scrambled. In the files the columns correspond to stimulus onset, stimulus duration and ."
   ]
  },
  {
   "cell_type": "code",
   "execution_count": null,
   "metadata": {},
   "outputs": [],
   "source": [
    "import numpy as np\n",
    "import nibabel as nib\n",
    "import pandas as pd\n",
    "\n",
    "design_matrices = {\n",
    "    'block1': [4, 11, 1],\n",
    "    'block2': [19, 11, 1],\n",
    "    'block3': [34, 11, 1],\n",
    "    'block4': [49, 11, 1],\n",
    "    'block5': [64, 11, 1],\n",
    "    'block6': [79, 11, 1],\n",
    "    'block7': [94, 11, 1],\n",
    "    'block8': [109, 11, 1],\n",
    "    'block9': [124, 11, 1],\n",
    "    'block10': [139, 11, 1],\n",
    "    'block11': [154, 11, 1],\n",
    "    'block12': [169, 11, 1],\n",
    "    'block13': [184, 11, 1],\n",
    "    'block14': [199, 11, 1],\n",
    "    'block15': [214, 11, 1],\n",
    "    'block16': [229, 11, 1],\n",
    "    'block17': [244, 11, 1],\n",
    "    'block18': [259, 11, 1],\n",
    "    'block19': [274, 11, 1],\n",
    "    'block20': [289, 11, 1]\n",
    "}\n",
    "\n",
    "for i in design_matrices:\n",
    "    pd.DataFrame(design_matrices[i]).to_csv(f'design_matrices/{i}', sep=' ', index=False, header=False)"
   ]
  }
 ],
 "metadata": {
  "kernelspec": {
   "display_name": "foveal_decoding",
   "language": "python",
   "name": "python3"
  },
  "language_info": {
   "codemirror_mode": {
    "name": "ipython",
    "version": 3
   },
   "file_extension": ".py",
   "mimetype": "text/x-python",
   "name": "python",
   "nbconvert_exporter": "python",
   "pygments_lexer": "ipython3",
   "version": "3.1.-1"
  }
 },
 "nbformat": 4,
 "nbformat_minor": 2
}
