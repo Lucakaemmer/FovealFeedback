{
 "cells": [
  {
   "cell_type": "markdown",
   "metadata": {},
   "source": [
    "# Creating Design Matrix\n",
    "\n",
    "This script creates two instruction files for design matrices, one for the presentation of of objects and one fore scrambled. In the files the columns correspond to stimulus onset, stimulus duration and ."
   ]
  },
  {
   "cell_type": "code",
   "execution_count": 11,
   "metadata": {},
   "outputs": [],
   "source": [
    "import numpy as np\n",
    "import nibabel as nib\n",
    "import pandas as pd\n",
    "\n",
    "# Setting Parameters\n",
    "n_volumes = 213  # Number of volumes in your fMRI dataset\n",
    "tr = 2.0  # Time of repetition in seconds\n",
    "condition_onsets = {'condition1': [7.5, 37.5, 90, 120, 142.5, 172.5, 225, 255, 277.5, 307.5, 360, 390], 'condition2': [22.5, 52.5, 75, 105, 157.5, 187.5, 210, 240, 292.5, 322.5, 345, 375]}  # in seconds\n",
    "condition_duration = 15  # Duration of each condition in seconds\n",
    "\n",
    "\n",
    "design_matrix_objects = np.zeros((12, 3))\n",
    "design_matrix_scrambled = np.zeros((12, 3))\n",
    "\n",
    "# Stimulus onset\n",
    "design_matrix_objects[:, 0] = [7.5, 37.5, 90, 120, 142.5, 172.5, 225, 255, 277.5, 307.5, 360, 390]\n",
    "design_matrix_scrambled[:, 0] = [22.5, 52.5, 75, 105, 157.5, 187.5, 210, 240, 292.5, 322.5, 345, 375]\n",
    "\n",
    "# Stimulus duration\n",
    "design_matrix_objects[:, 1] = int(15)\n",
    "design_matrix_scrambled[:, 1] = int(15)\n",
    "\n",
    "design_matrix_objects[:, 2] = int(1)\n",
    "design_matrix_scrambled[:, 2] = int(1)\n",
    "\n",
    "# Saving file as space separated to make it readable to fsl FEAT\n",
    "pd.DataFrame(design_matrix_objects).to_csv('design_matrix_objects.csv', sep=' ', index=False, header=False)\n",
    "pd.DataFrame(design_matrix_scrambled).to_csv('design_matrix_scrambled.csv', sep=' ', index=False, header=False)"
   ]
  },
  {
   "cell_type": "markdown",
   "metadata": {},
   "source": [
    "# "
   ]
  }
 ],
 "metadata": {
  "kernelspec": {
   "display_name": "foveal_decoding",
   "language": "python",
   "name": "python3"
  },
  "language_info": {
   "codemirror_mode": {
    "name": "ipython",
    "version": 3
   },
   "file_extension": ".py",
   "mimetype": "text/x-python",
   "name": "python",
   "nbconvert_exporter": "python",
   "pygments_lexer": "ipython3",
   "version": "3.12.2"
  }
 },
 "nbformat": 4,
 "nbformat_minor": 2
}
