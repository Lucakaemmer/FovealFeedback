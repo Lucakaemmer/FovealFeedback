{
 "cells": [
  {
   "cell_type": "code",
   "execution_count": null,
   "metadata": {},
   "outputs": [],
   "source": [
    "import numpy as np\n",
    "import nibabel as nib\n",
    "import pandas as pd\n",
    "\n",
    "deg1 = [[0, 12, 1],\n",
    "        [30, 12, 1],\n",
    "        [60, 12, 1],\n",
    "        [113, 12, 1],\n",
    "        [143, 12, 1],\n",
    "        [173, 12, 1]]\n",
    "            \n",
    "deg2 = [[6, 12, 1],\n",
    "        [36, 12, 1],\n",
    "        [66, 12, 1],\n",
    "        [107, 12, 1],\n",
    "        [137, 12, 1],\n",
    "        [167, 12, 1]]\n",
    "\n",
    "deg3 = [[12, 12, 1],\n",
    "        [42, 12, 1],\n",
    "        [72, 12, 1],\n",
    "        [101, 12, 1],\n",
    "        [131, 12, 1],\n",
    "        [161, 12, 1]]\n",
    "\n",
    "deg4 = [[18, 12, 1],\n",
    "        [48, 12, 1],\n",
    "        [78, 12, 1],\n",
    "        [95, 12, 1],\n",
    "        [125, 12, 1],\n",
    "        [155, 12, 1]]\n",
    "\n",
    "deg5 = [[24, 6, 1],\n",
    "        [54, 6, 1],\n",
    "        [84, 6, 1],\n",
    "        [95, 6, 1],\n",
    "        [125, 6, 1],\n",
    "        [155, 6, 1]]\n",
    "\n",
    "\n",
    "# Saving file as space separated to make it readable to fsl FEAT\n",
    "pd.DataFrame(deg1).to_csv('design_matrices_deg/deg1.csv', sep=' ', index=False, header=False)\n",
    "pd.DataFrame(deg2).to_csv('design_matrices_deg/deg2.csv', sep=' ', index=False, header=False)\n",
    "pd.DataFrame(deg3).to_csv('design_matrices_deg/deg3.csv', sep=' ', index=False, header=False)\n",
    "pd.DataFrame(deg4).to_csv('design_matrices_deg/deg4.csv', sep=' ', index=False, header=False)\n",
    "pd.DataFrame(deg5).to_csv('design_matrices_deg/deg5.csv', sep=' ', index=False, header=False)\n"
   ]
  }
 ],
 "metadata": {
  "kernelspec": {
   "display_name": "foveal_decoding",
   "language": "python",
   "name": "python3"
  },
  "language_info": {
   "codemirror_mode": {
    "name": "ipython",
    "version": 3
   },
   "file_extension": ".py",
   "mimetype": "text/x-python",
   "name": "python",
   "nbconvert_exporter": "python",
   "pygments_lexer": "ipython3",
   "version": "3.1.-1"
  }
 },
 "nbformat": 4,
 "nbformat_minor": 2
}
